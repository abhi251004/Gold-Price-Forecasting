{
 "cells": [
  {
   "cell_type": "code",
   "execution_count": 1,
   "id": "48f11312",
   "metadata": {},
   "outputs": [],
   "source": [
    "# importing required libraries\n",
    "import pandas as pd\n",
    "import numpy as np\n",
    "from scipy.stats import boxcox\n",
    "from math import exp\n",
    "import matplotlib.pyplot as plt\n",
    "import seaborn as sns\n",
    "import warnings\n",
    "%matplotlib inline"
   ]
  },
  {
   "cell_type": "code",
   "execution_count": 2,
   "id": "12a33625",
   "metadata": {
    "scrolled": true
   },
   "outputs": [
    {
     "data": {
      "text/html": [
       "<div>\n",
       "<style scoped>\n",
       "    .dataframe tbody tr th:only-of-type {\n",
       "        vertical-align: middle;\n",
       "    }\n",
       "\n",
       "    .dataframe tbody tr th {\n",
       "        vertical-align: top;\n",
       "    }\n",
       "\n",
       "    .dataframe thead th {\n",
       "        text-align: right;\n",
       "    }\n",
       "</style>\n",
       "<table border=\"1\" class=\"dataframe\">\n",
       "  <thead>\n",
       "    <tr style=\"text-align: right;\">\n",
       "      <th></th>\n",
       "      <th>Date</th>\n",
       "      <th>Gold_Price</th>\n",
       "    </tr>\n",
       "  </thead>\n",
       "  <tbody>\n",
       "    <tr>\n",
       "      <th>0</th>\n",
       "      <td>04-03-2020</td>\n",
       "      <td>38782</td>\n",
       "    </tr>\n",
       "    <tr>\n",
       "      <th>1</th>\n",
       "      <td>05-03-2020</td>\n",
       "      <td>39246</td>\n",
       "    </tr>\n",
       "    <tr>\n",
       "      <th>2</th>\n",
       "      <td>06-03-2020</td>\n",
       "      <td>40061</td>\n",
       "    </tr>\n",
       "    <tr>\n",
       "      <th>3</th>\n",
       "      <td>09-03-2020</td>\n",
       "      <td>39971</td>\n",
       "    </tr>\n",
       "    <tr>\n",
       "      <th>4</th>\n",
       "      <td>10-03-2020</td>\n",
       "      <td>39570</td>\n",
       "    </tr>\n",
       "  </tbody>\n",
       "</table>\n",
       "</div>"
      ],
      "text/plain": [
       "         Date  Gold_Price\n",
       "0  04-03-2020       38782\n",
       "1  05-03-2020       39246\n",
       "2  06-03-2020       40061\n",
       "3  09-03-2020       39971\n",
       "4  10-03-2020       39570"
      ]
     },
     "execution_count": 2,
     "metadata": {},
     "output_type": "execute_result"
    }
   ],
   "source": [
    "# load data\n",
    "gold_price  = pd.read_csv(\"\\\\Users\\\\piyus\\\\Documents\\\\ExcelR project\\\\P99\\\\GoldPrice.csv\")\n",
    "gold_price.head()"
   ]
  },
  {
   "cell_type": "code",
   "execution_count": 3,
   "id": "8cea9017",
   "metadata": {},
   "outputs": [
    {
     "data": {
      "text/plain": [
       "(523, 2)"
      ]
     },
     "execution_count": 3,
     "metadata": {},
     "output_type": "execute_result"
    }
   ],
   "source": [
    "# shape \n",
    "gold_price.shape"
   ]
  },
  {
   "cell_type": "code",
   "execution_count": 4,
   "id": "948a911f",
   "metadata": {},
   "outputs": [
    {
     "data": {
      "text/plain": [
       "501"
      ]
     },
     "execution_count": 4,
     "metadata": {},
     "output_type": "execute_result"
    }
   ],
   "source": [
    "# length of data\n",
    "len(gold_price.Gold_Price.unique())"
   ]
  },
  {
   "cell_type": "code",
   "execution_count": 5,
   "id": "442f89c4",
   "metadata": {},
   "outputs": [
    {
     "data": {
      "text/plain": [
       "Date          0\n",
       "Gold_Price    0\n",
       "dtype: int64"
      ]
     },
     "execution_count": 5,
     "metadata": {},
     "output_type": "execute_result"
    }
   ],
   "source": [
    "# Na values\n",
    "gold_price.isna().sum()"
   ]
  },
  {
   "cell_type": "code",
   "execution_count": 6,
   "id": "bb094217",
   "metadata": {
    "scrolled": true
   },
   "outputs": [
    {
     "data": {
      "text/plain": [
       "Date          object\n",
       "Gold_Price     int64\n",
       "dtype: object"
      ]
     },
     "execution_count": 6,
     "metadata": {},
     "output_type": "execute_result"
    }
   ],
   "source": [
    "# DataType\n",
    "gold_price.dtypes"
   ]
  },
  {
   "cell_type": "code",
   "execution_count": null,
   "id": "e928e2a3",
   "metadata": {},
   "outputs": [],
   "source": []
  },
  {
   "cell_type": "code",
   "execution_count": 7,
   "id": "664f641b",
   "metadata": {},
   "outputs": [
    {
     "data": {
      "text/html": [
       "<div>\n",
       "<style scoped>\n",
       "    .dataframe tbody tr th:only-of-type {\n",
       "        vertical-align: middle;\n",
       "    }\n",
       "\n",
       "    .dataframe tbody tr th {\n",
       "        vertical-align: top;\n",
       "    }\n",
       "\n",
       "    .dataframe thead th {\n",
       "        text-align: right;\n",
       "    }\n",
       "</style>\n",
       "<table border=\"1\" class=\"dataframe\">\n",
       "  <thead>\n",
       "    <tr style=\"text-align: right;\">\n",
       "      <th></th>\n",
       "      <th>Date</th>\n",
       "      <th>Gold_Price</th>\n",
       "    </tr>\n",
       "  </thead>\n",
       "  <tbody>\n",
       "    <tr>\n",
       "      <th>0</th>\n",
       "      <td>2020-03-04</td>\n",
       "      <td>38782</td>\n",
       "    </tr>\n",
       "    <tr>\n",
       "      <th>1</th>\n",
       "      <td>2020-03-05</td>\n",
       "      <td>39246</td>\n",
       "    </tr>\n",
       "    <tr>\n",
       "      <th>2</th>\n",
       "      <td>2020-03-06</td>\n",
       "      <td>40061</td>\n",
       "    </tr>\n",
       "    <tr>\n",
       "      <th>3</th>\n",
       "      <td>2020-03-09</td>\n",
       "      <td>39971</td>\n",
       "    </tr>\n",
       "    <tr>\n",
       "      <th>4</th>\n",
       "      <td>2020-03-10</td>\n",
       "      <td>39570</td>\n",
       "    </tr>\n",
       "  </tbody>\n",
       "</table>\n",
       "</div>"
      ],
      "text/plain": [
       "        Date  Gold_Price\n",
       "0 2020-03-04       38782\n",
       "1 2020-03-05       39246\n",
       "2 2020-03-06       40061\n",
       "3 2020-03-09       39971\n",
       "4 2020-03-10       39570"
      ]
     },
     "execution_count": 7,
     "metadata": {},
     "output_type": "execute_result"
    }
   ],
   "source": [
    "# converting Date column into DateTime datatype\n",
    "\n",
    "gold_price['Date'] = pd.to_datetime(gold_price['Date'], format=\"%d-%m-%Y\")\n",
    "gold_price.head()"
   ]
  },
  {
   "cell_type": "code",
   "execution_count": 8,
   "id": "f5984a77",
   "metadata": {},
   "outputs": [
    {
     "data": {
      "text/plain": [
       "Date          datetime64[ns]\n",
       "Gold_Price             int64\n",
       "dtype: object"
      ]
     },
     "execution_count": 8,
     "metadata": {},
     "output_type": "execute_result"
    }
   ],
   "source": [
    "gold_price.dtypes"
   ]
  },
  {
   "cell_type": "code",
   "execution_count": null,
   "id": "3df3b0f4",
   "metadata": {},
   "outputs": [],
   "source": []
  },
  {
   "cell_type": "code",
   "execution_count": 9,
   "id": "a887ab21",
   "metadata": {
    "scrolled": true
   },
   "outputs": [
    {
     "data": {
      "text/html": [
       "<div>\n",
       "<style scoped>\n",
       "    .dataframe tbody tr th:only-of-type {\n",
       "        vertical-align: middle;\n",
       "    }\n",
       "\n",
       "    .dataframe tbody tr th {\n",
       "        vertical-align: top;\n",
       "    }\n",
       "\n",
       "    .dataframe thead th {\n",
       "        text-align: right;\n",
       "    }\n",
       "</style>\n",
       "<table border=\"1\" class=\"dataframe\">\n",
       "  <thead>\n",
       "    <tr style=\"text-align: right;\">\n",
       "      <th></th>\n",
       "      <th>Gold_Price</th>\n",
       "    </tr>\n",
       "    <tr>\n",
       "      <th>Date</th>\n",
       "      <th></th>\n",
       "    </tr>\n",
       "  </thead>\n",
       "  <tbody>\n",
       "    <tr>\n",
       "      <th>2020-03-04</th>\n",
       "      <td>38782</td>\n",
       "    </tr>\n",
       "    <tr>\n",
       "      <th>2020-03-05</th>\n",
       "      <td>39246</td>\n",
       "    </tr>\n",
       "    <tr>\n",
       "      <th>2020-03-06</th>\n",
       "      <td>40061</td>\n",
       "    </tr>\n",
       "    <tr>\n",
       "      <th>2020-03-09</th>\n",
       "      <td>39971</td>\n",
       "    </tr>\n",
       "    <tr>\n",
       "      <th>2020-03-10</th>\n",
       "      <td>39570</td>\n",
       "    </tr>\n",
       "  </tbody>\n",
       "</table>\n",
       "</div>"
      ],
      "text/plain": [
       "            Gold_Price\n",
       "Date                  \n",
       "2020-03-04       38782\n",
       "2020-03-05       39246\n",
       "2020-03-06       40061\n",
       "2020-03-09       39971\n",
       "2020-03-10       39570"
      ]
     },
     "execution_count": 9,
     "metadata": {},
     "output_type": "execute_result"
    }
   ],
   "source": [
    "#setting Date as index\n",
    "gold_price.set_index(gold_price.Date,inplace=True)\n",
    "gold_price = gold_price.drop(['Date'],axis=1)\n",
    "gold_price.head()"
   ]
  },
  {
   "cell_type": "markdown",
   "id": "155eb1e3",
   "metadata": {},
   "source": [
    "####  As the in our data Date range is having Business frequency so the dates of Sundays and Saturdays are missing in data"
   ]
  },
  {
   "cell_type": "code",
   "execution_count": 10,
   "id": "8c5e12fc",
   "metadata": {},
   "outputs": [
    {
     "data": {
      "text/html": [
       "<div>\n",
       "<style scoped>\n",
       "    .dataframe tbody tr th:only-of-type {\n",
       "        vertical-align: middle;\n",
       "    }\n",
       "\n",
       "    .dataframe tbody tr th {\n",
       "        vertical-align: top;\n",
       "    }\n",
       "\n",
       "    .dataframe thead th {\n",
       "        text-align: right;\n",
       "    }\n",
       "</style>\n",
       "<table border=\"1\" class=\"dataframe\">\n",
       "  <thead>\n",
       "    <tr style=\"text-align: right;\">\n",
       "      <th></th>\n",
       "      <th>Gold_Price</th>\n",
       "    </tr>\n",
       "  </thead>\n",
       "  <tbody>\n",
       "    <tr>\n",
       "      <th>2020-03-04</th>\n",
       "      <td>38782.0</td>\n",
       "    </tr>\n",
       "    <tr>\n",
       "      <th>2020-03-05</th>\n",
       "      <td>39246.0</td>\n",
       "    </tr>\n",
       "    <tr>\n",
       "      <th>2020-03-06</th>\n",
       "      <td>40061.0</td>\n",
       "    </tr>\n",
       "    <tr>\n",
       "      <th>2020-03-07</th>\n",
       "      <td>NaN</td>\n",
       "    </tr>\n",
       "    <tr>\n",
       "      <th>2020-03-08</th>\n",
       "      <td>NaN</td>\n",
       "    </tr>\n",
       "  </tbody>\n",
       "</table>\n",
       "</div>"
      ],
      "text/plain": [
       "            Gold_Price\n",
       "2020-03-04     38782.0\n",
       "2020-03-05     39246.0\n",
       "2020-03-06     40061.0\n",
       "2020-03-07         NaN\n",
       "2020-03-08         NaN"
      ]
     },
     "execution_count": 10,
     "metadata": {},
     "output_type": "execute_result"
    }
   ],
   "source": [
    "#Adding missing dates and  respective gold price\n",
    "\n",
    "new_date = pd.date_range(start=\"2020-03-04\",end=\"2022-03-04\",freq=\"D\")\n",
    "gold_price=gold_price.reindex(new_date)\n",
    "gold_price.head()"
   ]
  },
  {
   "cell_type": "code",
   "execution_count": 11,
   "id": "3ecaa057",
   "metadata": {},
   "outputs": [],
   "source": [
    "data = gold_price.resample('1D').mean().ffill()"
   ]
  },
  {
   "cell_type": "code",
   "execution_count": 12,
   "id": "6f313ff4",
   "metadata": {},
   "outputs": [
    {
     "data": {
      "text/html": [
       "<div>\n",
       "<style scoped>\n",
       "    .dataframe tbody tr th:only-of-type {\n",
       "        vertical-align: middle;\n",
       "    }\n",
       "\n",
       "    .dataframe tbody tr th {\n",
       "        vertical-align: top;\n",
       "    }\n",
       "\n",
       "    .dataframe thead th {\n",
       "        text-align: right;\n",
       "    }\n",
       "</style>\n",
       "<table border=\"1\" class=\"dataframe\">\n",
       "  <thead>\n",
       "    <tr style=\"text-align: right;\">\n",
       "      <th></th>\n",
       "      <th>Gold_Price</th>\n",
       "    </tr>\n",
       "  </thead>\n",
       "  <tbody>\n",
       "    <tr>\n",
       "      <th>2020-03-04</th>\n",
       "      <td>38782.0</td>\n",
       "    </tr>\n",
       "    <tr>\n",
       "      <th>2020-03-05</th>\n",
       "      <td>39246.0</td>\n",
       "    </tr>\n",
       "    <tr>\n",
       "      <th>2020-03-06</th>\n",
       "      <td>40061.0</td>\n",
       "    </tr>\n",
       "    <tr>\n",
       "      <th>2020-03-07</th>\n",
       "      <td>40061.0</td>\n",
       "    </tr>\n",
       "    <tr>\n",
       "      <th>2020-03-08</th>\n",
       "      <td>40061.0</td>\n",
       "    </tr>\n",
       "  </tbody>\n",
       "</table>\n",
       "</div>"
      ],
      "text/plain": [
       "            Gold_Price\n",
       "2020-03-04     38782.0\n",
       "2020-03-05     39246.0\n",
       "2020-03-06     40061.0\n",
       "2020-03-07     40061.0\n",
       "2020-03-08     40061.0"
      ]
     },
     "execution_count": 12,
     "metadata": {},
     "output_type": "execute_result"
    }
   ],
   "source": [
    "data.head()"
   ]
  },
  {
   "cell_type": "code",
   "execution_count": 13,
   "id": "3f35f2e9",
   "metadata": {},
   "outputs": [],
   "source": [
    "data1=data.copy()"
   ]
  },
  {
   "cell_type": "code",
   "execution_count": 14,
   "id": "841fe07b",
   "metadata": {},
   "outputs": [
    {
     "data": {
      "text/html": [
       "<div>\n",
       "<style scoped>\n",
       "    .dataframe tbody tr th:only-of-type {\n",
       "        vertical-align: middle;\n",
       "    }\n",
       "\n",
       "    .dataframe tbody tr th {\n",
       "        vertical-align: top;\n",
       "    }\n",
       "\n",
       "    .dataframe thead th {\n",
       "        text-align: right;\n",
       "    }\n",
       "</style>\n",
       "<table border=\"1\" class=\"dataframe\">\n",
       "  <thead>\n",
       "    <tr style=\"text-align: right;\">\n",
       "      <th></th>\n",
       "      <th>Gold_Price</th>\n",
       "    </tr>\n",
       "  </thead>\n",
       "  <tbody>\n",
       "    <tr>\n",
       "      <th>count</th>\n",
       "      <td>731.000000</td>\n",
       "    </tr>\n",
       "    <tr>\n",
       "      <th>mean</th>\n",
       "      <td>43294.845417</td>\n",
       "    </tr>\n",
       "    <tr>\n",
       "      <th>std</th>\n",
       "      <td>1972.936243</td>\n",
       "    </tr>\n",
       "    <tr>\n",
       "      <th>min</th>\n",
       "      <td>35643.000000</td>\n",
       "    </tr>\n",
       "    <tr>\n",
       "      <th>25%</th>\n",
       "      <td>42316.000000</td>\n",
       "    </tr>\n",
       "    <tr>\n",
       "      <th>50%</th>\n",
       "      <td>43298.000000</td>\n",
       "    </tr>\n",
       "    <tr>\n",
       "      <th>75%</th>\n",
       "      <td>44487.000000</td>\n",
       "    </tr>\n",
       "    <tr>\n",
       "      <th>max</th>\n",
       "      <td>49968.000000</td>\n",
       "    </tr>\n",
       "  </tbody>\n",
       "</table>\n",
       "</div>"
      ],
      "text/plain": [
       "         Gold_Price\n",
       "count    731.000000\n",
       "mean   43294.845417\n",
       "std     1972.936243\n",
       "min    35643.000000\n",
       "25%    42316.000000\n",
       "50%    43298.000000\n",
       "75%    44487.000000\n",
       "max    49968.000000"
      ]
     },
     "execution_count": 14,
     "metadata": {},
     "output_type": "execute_result"
    }
   ],
   "source": [
    "data.describe()"
   ]
  },
  {
   "cell_type": "code",
   "execution_count": 15,
   "id": "50916877",
   "metadata": {},
   "outputs": [
    {
     "data": {
      "text/plain": [
       "DatetimeIndex(['2020-03-04', '2020-03-05', '2020-03-06', '2020-03-07',\n",
       "               '2020-03-08', '2020-03-09', '2020-03-10', '2020-03-11',\n",
       "               '2020-03-12', '2020-03-13',\n",
       "               ...\n",
       "               '2022-02-23', '2022-02-24', '2022-02-25', '2022-02-26',\n",
       "               '2022-02-27', '2022-02-28', '2022-03-01', '2022-03-02',\n",
       "               '2022-03-03', '2022-03-04'],\n",
       "              dtype='datetime64[ns]', length=731, freq='D')"
      ]
     },
     "execution_count": 15,
     "metadata": {},
     "output_type": "execute_result"
    }
   ],
   "source": [
    "data.index"
   ]
  },
  {
   "cell_type": "code",
   "execution_count": null,
   "id": "eea517d1",
   "metadata": {},
   "outputs": [],
   "source": []
  },
  {
   "cell_type": "markdown",
   "id": "f76d3412",
   "metadata": {},
   "source": [
    "### Analysing Data With different Graps"
   ]
  },
  {
   "cell_type": "code",
   "execution_count": 16,
   "id": "c866a1e7",
   "metadata": {
    "scrolled": true
   },
   "outputs": [
    {
     "data": {
      "image/png": "[encoded data removed]",
      "text/plain": [
       "<Figure size 1440x504 with 1 Axes>"
      ]
     },
     "metadata": {
      "needs_background": "light"
     },
     "output_type": "display_data"
    }
   ],
   "source": [
    "plt.figure(figsize=(20,7))\n",
    "plt.plot(data,color='black')\n",
    "plt.xlabel(\"Date\")\n",
    "plt.ylabel(\"Gold Price\")\n",
    "plt.grid()\n",
    "plt.show()"
   ]
  },
  {
   "cell_type": "markdown",
   "id": "7e14b7e3",
   "metadata": {},
   "source": [
    "  **Above lineplot shows that Gold Price over the period of time is increasing and after certain period it decresses again,therefore data is not showing any kind of trend and seasonality ."
   ]
  },
  {
   "cell_type": "code",
   "execution_count": 17,
   "id": "62d56d26",
   "metadata": {},
   "outputs": [
    {
     "data": {
      "image/png": "[encoded data removed]",
      "text/plain": [
       "<Figure size 432x288 with 4 Axes>"
      ]
     },
     "metadata": {
      "needs_background": "light"
     },
     "output_type": "display_data"
    }
   ],
   "source": [
    "from statsmodels.tsa.seasonal import seasonal_decompose\n",
    "decompose = seasonal_decompose(data)\n",
    "decompose.plot()\n",
    "plt.show()"
   ]
  },
  {
   "cell_type": "markdown",
   "id": "8d82671a",
   "metadata": {},
   "source": [
    "**Seasonal demoposition shows that \n",
    " 1. avarage is not constant for the GoldPrice over the period of time\n",
    " 2. there is no trend followed by data  \n",
    " 3. seasonality is not present in the data"
   ]
  },
  {
   "cell_type": "code",
   "execution_count": 18,
   "id": "b9ea3207",
   "metadata": {},
   "outputs": [
    {
     "data": {
      "text/plain": [
       "<AxesSubplot:ylabel='Density'>"
      ]
     },
     "execution_count": 18,
     "metadata": {},
     "output_type": "execute_result"
    },
    {
     "data": {
      "image/png": "[encoded data removed]",
      "text/plain": [
       "<Figure size 432x288 with 1 Axes>"
      ]
     },
     "metadata": {
      "needs_background": "light"
     },
     "output_type": "display_data"
    }
   ],
   "source": [
    "data.plot(kind='kde')"
   ]
  },
  {
   "cell_type": "code",
   "execution_count": 19,
   "id": "cbcf83e9",
   "metadata": {},
   "outputs": [
    {
     "data": {
      "text/plain": [
       "<AxesSubplot:xlabel='y(t)', ylabel='y(t + 1)'>"
      ]
     },
     "execution_count": 19,
     "metadata": {},
     "output_type": "execute_result"
    },
    {
     "data": {
      "image/png": "[encoded data removed]",
      "text/plain": [
       "<Figure size 432x288 with 1 Axes>"
      ]
     },
     "metadata": {
      "needs_background": "light"
     },
     "output_type": "display_data"
    }
   ],
   "source": [
    "from pandas.plotting import lag_plot\n",
    "lag_plot(data)"
   ]
  },
  {
   "cell_type": "markdown",
   "id": "973e6f7f",
   "metadata": {},
   "source": [
    "**lag plots shows that there is positive liner relation between variable and its own lag variable "
   ]
  },
  {
   "cell_type": "code",
   "execution_count": 20,
   "id": "31323846",
   "metadata": {},
   "outputs": [
    {
     "data": {
      "image/png": "[encoded data removed]",
      "text/plain": [
       "<Figure size 432x288 with 1 Axes>"
      ]
     },
     "metadata": {
      "needs_background": "light"
     },
     "output_type": "display_data"
    }
   ],
   "source": [
    "from statsmodels.graphics.tsaplots import plot_acf\n",
    "plot_acf(data)\n",
    "plt.show()"
   ]
  },
  {
   "cell_type": "markdown",
   "id": "44a0882f",
   "metadata": {},
   "source": [
    "**from the above graph we can examine that nearest time lag has good autocorrelation but as we reach time      period which are far away the autocorrelation is decressing"
   ]
  },
  {
   "cell_type": "markdown",
   "id": "3f3239e9",
   "metadata": {},
   "source": [
    "### Appying all transformation on data "
   ]
  },
  {
   "cell_type": "code",
   "execution_count": 21,
   "id": "c6880ac2",
   "metadata": {},
   "outputs": [
    {
     "data": {
      "text/html": [
       "<div>\n",
       "<style scoped>\n",
       "    .dataframe tbody tr th:only-of-type {\n",
       "        vertical-align: middle;\n",
       "    }\n",
       "\n",
       "    .dataframe tbody tr th {\n",
       "        vertical-align: top;\n",
       "    }\n",
       "\n",
       "    .dataframe thead th {\n",
       "        text-align: right;\n",
       "    }\n",
       "</style>\n",
       "<table border=\"1\" class=\"dataframe\">\n",
       "  <thead>\n",
       "    <tr style=\"text-align: right;\">\n",
       "      <th></th>\n",
       "      <th>Gold_Price</th>\n",
       "      <th>time</th>\n",
       "      <th>time_sqr</th>\n",
       "      <th>log_GoldPrice</th>\n",
       "    </tr>\n",
       "  </thead>\n",
       "  <tbody>\n",
       "    <tr>\n",
       "      <th>2020-03-04</th>\n",
       "      <td>196.931460</td>\n",
       "      <td>1</td>\n",
       "      <td>1</td>\n",
       "      <td>5.282856</td>\n",
       "    </tr>\n",
       "    <tr>\n",
       "      <th>2020-03-05</th>\n",
       "      <td>198.106032</td>\n",
       "      <td>2</td>\n",
       "      <td>4</td>\n",
       "      <td>5.288802</td>\n",
       "    </tr>\n",
       "    <tr>\n",
       "      <th>2020-03-06</th>\n",
       "      <td>200.152442</td>\n",
       "      <td>3</td>\n",
       "      <td>9</td>\n",
       "      <td>5.299079</td>\n",
       "    </tr>\n",
       "    <tr>\n",
       "      <th>2020-03-07</th>\n",
       "      <td>200.152442</td>\n",
       "      <td>4</td>\n",
       "      <td>16</td>\n",
       "      <td>5.299079</td>\n",
       "    </tr>\n",
       "    <tr>\n",
       "      <th>2020-03-08</th>\n",
       "      <td>200.152442</td>\n",
       "      <td>5</td>\n",
       "      <td>25</td>\n",
       "      <td>5.299079</td>\n",
       "    </tr>\n",
       "  </tbody>\n",
       "</table>\n",
       "</div>"
      ],
      "text/plain": [
       "            Gold_Price  time  time_sqr  log_GoldPrice\n",
       "2020-03-04  196.931460     1         1       5.282856\n",
       "2020-03-05  198.106032     2         4       5.288802\n",
       "2020-03-06  200.152442     3         9       5.299079\n",
       "2020-03-07  200.152442     4        16       5.299079\n",
       "2020-03-08  200.152442     5        25       5.299079"
      ]
     },
     "execution_count": 21,
     "metadata": {},
     "output_type": "execute_result"
    }
   ],
   "source": [
    "# SquareRoot Transformation\n",
    "\n",
    "sqrt = pd.DataFrame()\n",
    "sqrt['Gold_Price'] = np.sqrt(data['Gold_Price'])\n",
    "sqrt1=sqrt.copy()\n",
    "\n",
    "# Adding Columns i.e.. \"time\" , \"time square\" , and \"Log of  SquareRoot gold price\"\n",
    "\n",
    "sqrt['time'] = np.arange(1,732)\n",
    "sqrt['time_sqr'] = sqrt['time']*sqrt['time']\n",
    "sqrt['log_GoldPrice'] = np.log(sqrt['Gold_Price'])\n",
    "\n",
    "#spliting into Training and Testing\n",
    "train_sqrt = sqrt.head(550)\n",
    "test_sqrt = sqrt.iloc[550:]\n",
    "\n",
    "train_sqrt.head()"
   ]
  },
  {
   "cell_type": "code",
   "execution_count": null,
   "id": "3fb067fe",
   "metadata": {},
   "outputs": [],
   "source": []
  },
  {
   "cell_type": "code",
   "execution_count": 22,
   "id": "7a65caf7",
   "metadata": {},
   "outputs": [
    {
     "data": {
      "text/html": [
       "<div>\n",
       "<style scoped>\n",
       "    .dataframe tbody tr th:only-of-type {\n",
       "        vertical-align: middle;\n",
       "    }\n",
       "\n",
       "    .dataframe tbody tr th {\n",
       "        vertical-align: top;\n",
       "    }\n",
       "\n",
       "    .dataframe thead th {\n",
       "        text-align: right;\n",
       "    }\n",
       "</style>\n",
       "<table border=\"1\" class=\"dataframe\">\n",
       "  <thead>\n",
       "    <tr style=\"text-align: right;\">\n",
       "      <th></th>\n",
       "      <th>Gold_Price</th>\n",
       "      <th>time</th>\n",
       "      <th>time_sqr</th>\n",
       "      <th>log_GoldPrice</th>\n",
       "    </tr>\n",
       "  </thead>\n",
       "  <tbody>\n",
       "    <tr>\n",
       "      <th>2020-03-04</th>\n",
       "      <td>10.565712</td>\n",
       "      <td>1</td>\n",
       "      <td>1</td>\n",
       "      <td>2.357614</td>\n",
       "    </tr>\n",
       "    <tr>\n",
       "      <th>2020-03-05</th>\n",
       "      <td>10.577605</td>\n",
       "      <td>2</td>\n",
       "      <td>4</td>\n",
       "      <td>2.358739</td>\n",
       "    </tr>\n",
       "    <tr>\n",
       "      <th>2020-03-06</th>\n",
       "      <td>10.598159</td>\n",
       "      <td>3</td>\n",
       "      <td>9</td>\n",
       "      <td>2.360680</td>\n",
       "    </tr>\n",
       "    <tr>\n",
       "      <th>2020-03-07</th>\n",
       "      <td>10.598159</td>\n",
       "      <td>4</td>\n",
       "      <td>16</td>\n",
       "      <td>2.360680</td>\n",
       "    </tr>\n",
       "    <tr>\n",
       "      <th>2020-03-08</th>\n",
       "      <td>10.598159</td>\n",
       "      <td>5</td>\n",
       "      <td>25</td>\n",
       "      <td>2.360680</td>\n",
       "    </tr>\n",
       "  </tbody>\n",
       "</table>\n",
       "</div>"
      ],
      "text/plain": [
       "            Gold_Price  time  time_sqr  log_GoldPrice\n",
       "2020-03-04   10.565712     1         1       2.357614\n",
       "2020-03-05   10.577605     2         4       2.358739\n",
       "2020-03-06   10.598159     3         9       2.360680\n",
       "2020-03-07   10.598159     4        16       2.360680\n",
       "2020-03-08   10.598159     5        25       2.360680"
      ]
     },
     "execution_count": 22,
     "metadata": {},
     "output_type": "execute_result"
    }
   ],
   "source": [
    "# log Transformation\n",
    "\n",
    "log = pd.DataFrame()\n",
    "log['Gold_Price'] = np.log(data['Gold_Price'])\n",
    "log1=log.copy()\n",
    "# Adding Columns i.e.. \"time\" , \"time square\" , and \"Log of  log gold price\"\n",
    "\n",
    "log['time'] = np.arange(1,732)\n",
    "log['time_sqr'] = log['time']*log['time']\n",
    "log['log_GoldPrice'] = np.log(log['Gold_Price'])\n",
    "\n",
    "#spliting into Training and Testing\n",
    "train_log = log.head(550)\n",
    "test_log = log.iloc[550:]\n",
    "\n",
    "train_log.head()"
   ]
  },
  {
   "cell_type": "code",
   "execution_count": 23,
   "id": "19c017f0",
   "metadata": {},
   "outputs": [
    {
     "data": {
      "text/html": [
       "<div>\n",
       "<style scoped>\n",
       "    .dataframe tbody tr th:only-of-type {\n",
       "        vertical-align: middle;\n",
       "    }\n",
       "\n",
       "    .dataframe tbody tr th {\n",
       "        vertical-align: top;\n",
       "    }\n",
       "\n",
       "    .dataframe thead th {\n",
       "        text-align: right;\n",
       "    }\n",
       "</style>\n",
       "<table border=\"1\" class=\"dataframe\">\n",
       "  <thead>\n",
       "    <tr style=\"text-align: right;\">\n",
       "      <th></th>\n",
       "      <th>Gold_Price</th>\n",
       "      <th>time</th>\n",
       "      <th>time_sqr</th>\n",
       "      <th>log_GoldPrice</th>\n",
       "    </tr>\n",
       "    <tr>\n",
       "      <th>Date</th>\n",
       "      <th></th>\n",
       "      <th></th>\n",
       "      <th></th>\n",
       "      <th></th>\n",
       "    </tr>\n",
       "  </thead>\n",
       "  <tbody>\n",
       "    <tr>\n",
       "      <th>2020-03-04</th>\n",
       "      <td>2.613309e+11</td>\n",
       "      <td>1</td>\n",
       "      <td>1</td>\n",
       "      <td>26.289053</td>\n",
       "    </tr>\n",
       "    <tr>\n",
       "      <th>2020-03-05</th>\n",
       "      <td>2.694669e+11</td>\n",
       "      <td>2</td>\n",
       "      <td>4</td>\n",
       "      <td>26.319711</td>\n",
       "    </tr>\n",
       "    <tr>\n",
       "      <th>2020-03-06</th>\n",
       "      <td>2.841290e+11</td>\n",
       "      <td>3</td>\n",
       "      <td>9</td>\n",
       "      <td>26.372694</td>\n",
       "    </tr>\n",
       "    <tr>\n",
       "      <th>2020-03-07</th>\n",
       "      <td>2.841290e+11</td>\n",
       "      <td>4</td>\n",
       "      <td>16</td>\n",
       "      <td>26.372694</td>\n",
       "    </tr>\n",
       "    <tr>\n",
       "      <th>2020-03-08</th>\n",
       "      <td>2.841290e+11</td>\n",
       "      <td>5</td>\n",
       "      <td>25</td>\n",
       "      <td>26.372694</td>\n",
       "    </tr>\n",
       "  </tbody>\n",
       "</table>\n",
       "</div>"
      ],
      "text/plain": [
       "              Gold_Price  time  time_sqr  log_GoldPrice\n",
       "Date                                                   \n",
       "2020-03-04  2.613309e+11     1         1      26.289053\n",
       "2020-03-05  2.694669e+11     2         4      26.319711\n",
       "2020-03-06  2.841290e+11     3         9      26.372694\n",
       "2020-03-07  2.841290e+11     4        16      26.372694\n",
       "2020-03-08  2.841290e+11     5        25      26.372694"
      ]
     },
     "execution_count": 23,
     "metadata": {},
     "output_type": "execute_result"
    }
   ],
   "source": [
    "# box-cox transform\n",
    "result, lmbda = boxcox(data['Gold_Price'])\n",
    "boxcox = pd.DataFrame(result, columns=['Gold_Price'])\n",
    "dt = pd.date_range(start=\"2020-03-04\",end=\"2022-03-04\",freq=\"D\")\n",
    "boxcox['Date'] = dt\n",
    "boxcox.set_index(boxcox.Date,inplace=True)\n",
    "boxcox = boxcox.drop(['Date'],axis=1)\n",
    "boxcox1=boxcox.copy()\n",
    "# Adding Columns i.e.. \"time\" , \"time square\" , and \"Log of  boxcox gold price\"\n",
    "\n",
    "boxcox['time'] = np.arange(1,732)\n",
    "boxcox['time_sqr'] = boxcox['time']*boxcox['time']\n",
    "boxcox['log_GoldPrice'] = np.log(boxcox['Gold_Price'])\n",
    "\n",
    "#spliting into Training and Testing\n",
    "train_boxcox = boxcox.head(550)\n",
    "test_boxcox = boxcox.iloc[550:]\n",
    "\n",
    "train_boxcox.head()"
   ]
  },
  {
   "cell_type": "code",
   "execution_count": 24,
   "id": "3709672e",
   "metadata": {
    "scrolled": false
   },
   "outputs": [
    {
     "data": {
      "text/html": [
       "<div>\n",
       "<style scoped>\n",
       "    .dataframe tbody tr th:only-of-type {\n",
       "        vertical-align: middle;\n",
       "    }\n",
       "\n",
       "    .dataframe tbody tr th {\n",
       "        vertical-align: top;\n",
       "    }\n",
       "\n",
       "    .dataframe thead th {\n",
       "        text-align: right;\n",
       "    }\n",
       "</style>\n",
       "<table border=\"1\" class=\"dataframe\">\n",
       "  <thead>\n",
       "    <tr style=\"text-align: right;\">\n",
       "      <th></th>\n",
       "      <th>Gold_Price</th>\n",
       "      <th>time</th>\n",
       "      <th>time_sqr</th>\n",
       "      <th>log_GoldPrice</th>\n",
       "    </tr>\n",
       "  </thead>\n",
       "  <tbody>\n",
       "    <tr>\n",
       "      <th>2020-03-04</th>\n",
       "      <td>0.000026</td>\n",
       "      <td>1</td>\n",
       "      <td>1</td>\n",
       "      <td>-10.565712</td>\n",
       "    </tr>\n",
       "    <tr>\n",
       "      <th>2020-03-05</th>\n",
       "      <td>0.000025</td>\n",
       "      <td>2</td>\n",
       "      <td>4</td>\n",
       "      <td>-10.577605</td>\n",
       "    </tr>\n",
       "    <tr>\n",
       "      <th>2020-03-06</th>\n",
       "      <td>0.000025</td>\n",
       "      <td>3</td>\n",
       "      <td>9</td>\n",
       "      <td>-10.598159</td>\n",
       "    </tr>\n",
       "    <tr>\n",
       "      <th>2020-03-07</th>\n",
       "      <td>0.000025</td>\n",
       "      <td>4</td>\n",
       "      <td>16</td>\n",
       "      <td>-10.598159</td>\n",
       "    </tr>\n",
       "    <tr>\n",
       "      <th>2020-03-08</th>\n",
       "      <td>0.000025</td>\n",
       "      <td>5</td>\n",
       "      <td>25</td>\n",
       "      <td>-10.598159</td>\n",
       "    </tr>\n",
       "  </tbody>\n",
       "</table>\n",
       "</div>"
      ],
      "text/plain": [
       "            Gold_Price  time  time_sqr  log_GoldPrice\n",
       "2020-03-04    0.000026     1         1     -10.565712\n",
       "2020-03-05    0.000025     2         4     -10.577605\n",
       "2020-03-06    0.000025     3         9     -10.598159\n",
       "2020-03-07    0.000025     4        16     -10.598159\n",
       "2020-03-08    0.000025     5        25     -10.598159"
      ]
     },
     "execution_count": 24,
     "metadata": {},
     "output_type": "execute_result"
    }
   ],
   "source": [
    "rec=np.reciprocal(data.Gold_Price)\n",
    "recipro=pd.DataFrame(rec,columns=['Gold_Price'])\n",
    "recipro1=recipro.copy()\n",
    "\n",
    "# Adding Columns i.e.. \"time\" , \"time square\" , and \"Log of  reciprocal gold price\"\n",
    "\n",
    "recipro['time'] = np.arange(1,732)\n",
    "recipro['time_sqr'] = recipro['time']*recipro['time']\n",
    "recipro['log_GoldPrice'] = np.log(recipro['Gold_Price'])\n",
    "\n",
    "#spliting into Training and Testing\n",
    "train_recipro = recipro.head(550)\n",
    "test_recipro = recipro.iloc[550:]\n",
    "\n",
    "train_recipro.head()"
   ]
  },
  {
   "cell_type": "code",
   "execution_count": 25,
   "id": "805c70dc",
   "metadata": {
    "scrolled": false
   },
   "outputs": [
    {
     "data": {
      "image/png": "[encoded data removed]",
      "text/plain": [
       "<Figure size 1080x1224 with 4 Axes>"
      ]
     },
     "metadata": {
      "needs_background": "light"
     },
     "output_type": "display_data"
    }
   ],
   "source": [
    "plt.figure(figsize=(15,17))\n",
    "plt.subplot(4,2,1)\n",
    "plt.plot(sqrt['Gold_Price'])\n",
    "plt.title(\"Square Root\")\n",
    "plt.subplot(4,2,2)\n",
    "plt.plot(log['Gold_Price'])\n",
    "plt.title(\"Log\")\n",
    "plt.subplot(4,2,3)\n",
    "plt.plot(boxcox['Gold_Price'])\n",
    "plt.title(\"BoxCox\")\n",
    "plt.subplot(4,2,4)\n",
    "plt.plot(recipro['Gold_Price'])\n",
    "plt.title(\"Reciprocal\")\n",
    "plt.show()"
   ]
  },
  {
   "cell_type": "code",
   "execution_count": null,
   "id": "81f8bb1a",
   "metadata": {},
   "outputs": [],
   "source": []
  },
  {
   "cell_type": "code",
   "execution_count": 26,
   "id": "e0b8d370",
   "metadata": {
    "scrolled": true
   },
   "outputs": [
    {
     "data": {
      "text/html": [
       "<div>\n",
       "<style scoped>\n",
       "    .dataframe tbody tr th:only-of-type {\n",
       "        vertical-align: middle;\n",
       "    }\n",
       "\n",
       "    .dataframe tbody tr th {\n",
       "        vertical-align: top;\n",
       "    }\n",
       "\n",
       "    .dataframe thead th {\n",
       "        text-align: right;\n",
       "    }\n",
       "</style>\n",
       "<table border=\"1\" class=\"dataframe\">\n",
       "  <thead>\n",
       "    <tr style=\"text-align: right;\">\n",
       "      <th></th>\n",
       "      <th>Gold_Price</th>\n",
       "      <th>time</th>\n",
       "      <th>time_sqr</th>\n",
       "      <th>log_GoldPrice</th>\n",
       "    </tr>\n",
       "  </thead>\n",
       "  <tbody>\n",
       "    <tr>\n",
       "      <th>2020-03-04</th>\n",
       "      <td>38782.0</td>\n",
       "      <td>1</td>\n",
       "      <td>1</td>\n",
       "      <td>10.565712</td>\n",
       "    </tr>\n",
       "    <tr>\n",
       "      <th>2020-03-05</th>\n",
       "      <td>39246.0</td>\n",
       "      <td>2</td>\n",
       "      <td>4</td>\n",
       "      <td>10.577605</td>\n",
       "    </tr>\n",
       "    <tr>\n",
       "      <th>2020-03-06</th>\n",
       "      <td>40061.0</td>\n",
       "      <td>3</td>\n",
       "      <td>9</td>\n",
       "      <td>10.598159</td>\n",
       "    </tr>\n",
       "    <tr>\n",
       "      <th>2020-03-07</th>\n",
       "      <td>40061.0</td>\n",
       "      <td>4</td>\n",
       "      <td>16</td>\n",
       "      <td>10.598159</td>\n",
       "    </tr>\n",
       "    <tr>\n",
       "      <th>2020-03-08</th>\n",
       "      <td>40061.0</td>\n",
       "      <td>5</td>\n",
       "      <td>25</td>\n",
       "      <td>10.598159</td>\n",
       "    </tr>\n",
       "  </tbody>\n",
       "</table>\n",
       "</div>"
      ],
      "text/plain": [
       "            Gold_Price  time  time_sqr  log_GoldPrice\n",
       "2020-03-04     38782.0     1         1      10.565712\n",
       "2020-03-05     39246.0     2         4      10.577605\n",
       "2020-03-06     40061.0     3         9      10.598159\n",
       "2020-03-07     40061.0     4        16      10.598159\n",
       "2020-03-08     40061.0     5        25      10.598159"
      ]
     },
     "execution_count": 26,
     "metadata": {},
     "output_type": "execute_result"
    }
   ],
   "source": [
    "# Adding Columns i.e.. \"time\" , \"time square\" , and \"Log of  gold price\"\n",
    "data['time'] = np.arange(1,732)\n",
    "data['time_sqr'] = data['time']*data['time']\n",
    "data['log_GoldPrice'] = np.log(data['Gold_Price'])\n",
    "\n",
    "\n",
    "# Spliting Original Data into Training and Testing set\n",
    "train_data = data.head(550)\n",
    "test_data = data.iloc[550:]\n",
    "train_data.head()"
   ]
  },
  {
   "cell_type": "code",
   "execution_count": null,
   "id": "b7f9c4c6",
   "metadata": {},
   "outputs": [],
   "source": []
  },
  {
   "cell_type": "markdown",
   "id": "615ac836",
   "metadata": {},
   "source": [
    "#### Function to build model on \"Naives Aproch \", \" Simple Average \",\" Moving Average \"."
   ]
  },
  {
   "cell_type": "code",
   "execution_count": 27,
   "id": "2ee83dfb",
   "metadata": {},
   "outputs": [],
   "source": [
    "from sklearn.metrics import classification_report\n",
    "from sklearn.model_selection import cross_val_score\n",
    "\n",
    "def error1 (train,test):\n",
    "    moddel = {\n",
    "        'Naive Approch': {\n",
    "            'model' : np.asarray(train.Gold_Price)[len(np.asarray(train.Gold_Price))-1]\n",
    "        },\n",
    "        'Simple Mean' :{\n",
    "            'model' : train['Gold_Price'].mean()\n",
    "        },\n",
    "        'Moving Average': {\n",
    "            'model': train['Gold_Price'].rolling(2).mean().iloc[-1]\n",
    "        }\n",
    "    }\n",
    "    \n",
    "    scores = []\n",
    "    for model_name,config in moddel.items():\n",
    "        gs = config['model']\n",
    "        scores.append({\n",
    "            'Model' : model_name,\n",
    "            'Result' : np.mean(np.abs((gs-test.Gold_Price)/test.Gold_Price)*100)\n",
    "        })\n",
    "    return pd.DataFrame(scores,columns=['Result'])"
   ]
  },
  {
   "cell_type": "code",
   "execution_count": 28,
   "id": "88e52526",
   "metadata": {},
   "outputs": [
    {
     "data": {
      "text/html": [
       "<div>\n",
       "<style scoped>\n",
       "    .dataframe tbody tr th:only-of-type {\n",
       "        vertical-align: middle;\n",
       "    }\n",
       "\n",
       "    .dataframe tbody tr th {\n",
       "        vertical-align: top;\n",
       "    }\n",
       "\n",
       "    .dataframe thead th {\n",
       "        text-align: right;\n",
       "    }\n",
       "</style>\n",
       "<table border=\"1\" class=\"dataframe\">\n",
       "  <thead>\n",
       "    <tr style=\"text-align: right;\">\n",
       "      <th></th>\n",
       "      <th>Model</th>\n",
       "      <th>original_error</th>\n",
       "      <th>sqrt_error</th>\n",
       "      <th>log_error</th>\n",
       "      <th>boxcox_error</th>\n",
       "      <th>reciprocal_error</th>\n",
       "    </tr>\n",
       "  </thead>\n",
       "  <tbody>\n",
       "    <tr>\n",
       "      <th>0</th>\n",
       "      <td>Naives Aproch</td>\n",
       "      <td>2.139631</td>\n",
       "      <td>1.078216</td>\n",
       "      <td>0.203148</td>\n",
       "      <td>5.385734</td>\n",
       "      <td>2.209443</td>\n",
       "    </tr>\n",
       "    <tr>\n",
       "      <th>1</th>\n",
       "      <td>Simple Average</td>\n",
       "      <td>1.950153</td>\n",
       "      <td>0.989501</td>\n",
       "      <td>0.187919</td>\n",
       "      <td>4.843023</td>\n",
       "      <td>2.080878</td>\n",
       "    </tr>\n",
       "    <tr>\n",
       "      <th>2</th>\n",
       "      <td>Moving Average</td>\n",
       "      <td>2.139631</td>\n",
       "      <td>1.078216</td>\n",
       "      <td>0.203148</td>\n",
       "      <td>5.385734</td>\n",
       "      <td>2.209443</td>\n",
       "    </tr>\n",
       "  </tbody>\n",
       "</table>\n",
       "</div>"
      ],
      "text/plain": [
       "              Model  original_error  sqrt_error  log_error  boxcox_error  \\\n",
       "0    Naives Aproch         2.139631    1.078216   0.203148      5.385734   \n",
       "1   Simple Average         1.950153    0.989501   0.187919      4.843023   \n",
       "2    Moving Average        2.139631    1.078216   0.203148      5.385734   \n",
       "\n",
       "   reciprocal_error  \n",
       "0          2.209443  \n",
       "1          2.080878  \n",
       "2          2.209443  "
      ]
     },
     "execution_count": 28,
     "metadata": {},
     "output_type": "execute_result"
    }
   ],
   "source": [
    "model_name = [\"Naives Aproch \", \" Simple Average \",\" Moving Average\"]\n",
    "Result = pd.DataFrame(model_name,columns=['Model'])\n",
    "Result['original_error'] = error1(train_data,test_data)\n",
    "Result['sqrt_error'] = error1(train_sqrt,test_sqrt)\n",
    "Result['log_error'] = error1(train_log,test_log)\n",
    "Result['boxcox_error'] = error1(train_boxcox,test_boxcox)\n",
    "Result['reciprocal_error'] = error1(train_recipro,test_recipro)\n",
    "Result"
   ]
  },
  {
   "cell_type": "markdown",
   "id": "d414534b",
   "metadata": {},
   "source": [
    "### Function to build model on \"Simple Exponential \", \" Holts \" \"ExponentialSmoothing\"."
   ]
  },
  {
   "cell_type": "code",
   "execution_count": 29,
   "id": "c318aa02",
   "metadata": {},
   "outputs": [],
   "source": [
    "from statsmodels.tsa.api import SimpleExpSmoothing,Holt,ExponentialSmoothing\n",
    "\n",
    "def error2 (train,test):\n",
    "    moddel={\n",
    "        'Simple Exponential':{\n",
    "            'model': SimpleExpSmoothing(np.asarray(train['Gold_Price'])).fit(smoothing_level=0.9)\n",
    "        },\n",
    "        'Holt':{\n",
    "            'model': Holt(np.asarray(train['Gold_Price'])).fit(smoothing_level=0.1,smoothing_trend=0.1)\n",
    "        },\n",
    "        'ExponentialSmoothing':{\n",
    "            'model' : ExponentialSmoothing(np.asarray(train['Gold_Price']),seasonal=\"add\",trend=\"add\",seasonal_periods=60).fit()\n",
    "        }\n",
    "    }\n",
    "    scores = []\n",
    "    for model_name,config in moddel.items():\n",
    "        gs = config['model']\n",
    "        pred = gs.forecast(len(test))\n",
    "        scores.append({\n",
    "            'Model': model_name,\n",
    "            'Result': np.mean(np.abs((pred-test.Gold_Price)/test.Gold_Price)*100)\n",
    "        })\n",
    "        \n",
    "    return pd.DataFrame(scores,columns=['Result'])"
   ]
  },
  {
   "cell_type": "code",
   "execution_count": 30,
   "id": "f5696039",
   "metadata": {},
   "outputs": [
    {
     "data": {
      "text/html": [
       "<div>\n",
       "<style scoped>\n",
       "    .dataframe tbody tr th:only-of-type {\n",
       "        vertical-align: middle;\n",
       "    }\n",
       "\n",
       "    .dataframe tbody tr th {\n",
       "        vertical-align: top;\n",
       "    }\n",
       "\n",
       "    .dataframe thead th {\n",
       "        text-align: right;\n",
       "    }\n",
       "</style>\n",
       "<table border=\"1\" class=\"dataframe\">\n",
       "  <thead>\n",
       "    <tr style=\"text-align: right;\">\n",
       "      <th></th>\n",
       "      <th>Model</th>\n",
       "      <th>original_error</th>\n",
       "      <th>sqrt_error</th>\n",
       "      <th>log_error</th>\n",
       "      <th>boxcox_error</th>\n",
       "      <th>reciprocal_error</th>\n",
       "    </tr>\n",
       "  </thead>\n",
       "  <tbody>\n",
       "    <tr>\n",
       "      <th>0</th>\n",
       "      <td>Simple Exponential</td>\n",
       "      <td>2.142138</td>\n",
       "      <td>1.079500</td>\n",
       "      <td>0.203394</td>\n",
       "      <td>5.391715</td>\n",
       "      <td>2.212202</td>\n",
       "    </tr>\n",
       "    <tr>\n",
       "      <th>1</th>\n",
       "      <td>Holt</td>\n",
       "      <td>1.449310</td>\n",
       "      <td>0.724023</td>\n",
       "      <td>0.135253</td>\n",
       "      <td>3.755801</td>\n",
       "      <td>1.445219</td>\n",
       "    </tr>\n",
       "    <tr>\n",
       "      <th>2</th>\n",
       "      <td>ExponentialSmoothing</td>\n",
       "      <td>8.531602</td>\n",
       "      <td>0.870422</td>\n",
       "      <td>0.163546</td>\n",
       "      <td>18.710011</td>\n",
       "      <td>9.873709</td>\n",
       "    </tr>\n",
       "  </tbody>\n",
       "</table>\n",
       "</div>"
      ],
      "text/plain": [
       "                  Model  original_error  sqrt_error  log_error  boxcox_error  \\\n",
       "0    Simple Exponential        2.142138    1.079500   0.203394      5.391715   \n",
       "1                  Holt        1.449310    0.724023   0.135253      3.755801   \n",
       "2  ExponentialSmoothing        8.531602    0.870422   0.163546     18.710011   \n",
       "\n",
       "   reciprocal_error  \n",
       "0          2.212202  \n",
       "1          1.445219  \n",
       "2          9.873709  "
      ]
     },
     "execution_count": 30,
     "metadata": {},
     "output_type": "execute_result"
    }
   ],
   "source": [
    "warnings.filterwarnings(\"ignore\")\n",
    "\n",
    "moddel__name = [\"Simple Exponential\",\"Holt\",\"ExponentialSmoothing\"]\n",
    "Result_ = pd.DataFrame(moddel__name,columns=['Model'])\n",
    "Result_['original_error'] = error2(train_data,test_data)\n",
    "Result_['sqrt_error'] = error2(train_sqrt,test_sqrt)\n",
    "Result_['log_error'] = error2(train_log,test_log)\n",
    "Result_['boxcox_error'] = error2(train_boxcox,test_boxcox)\n",
    "Result_['reciprocal_error'] = error2(train_recipro,test_recipro)\n",
    "Result_\n"
   ]
  },
  {
   "cell_type": "code",
   "execution_count": null,
   "id": "fdbecbb2",
   "metadata": {},
   "outputs": [],
   "source": []
  },
  {
   "cell_type": "markdown",
   "id": "d36d9aaf",
   "metadata": {},
   "source": [
    "### Function to build model on \"Simple Liner model \", \" Exponential Linear model \"."
   ]
  },
  {
   "cell_type": "code",
   "execution_count": 31,
   "id": "a72c7931",
   "metadata": {},
   "outputs": [],
   "source": [
    "import statsmodels.formula.api as smf\n",
    "\n",
    "def error3 (train,test):\n",
    "    mooodel={\n",
    "        \"Simple Liner model\" :{\n",
    "            'model': smf.ols('Gold_Price~time',data=train).fit()\n",
    "        },\n",
    "        \"Exponential Linear model\" :{\n",
    "            'model': smf.ols('log_GoldPrice~time',data=train).fit()\n",
    "        }\n",
    "    }\n",
    "    scores = []\n",
    "    for moddel_name, config in mooodel.items():\n",
    "        gs =  config['model']\n",
    "        pred = pd.Series(gs.predict(test[\"time\"]))\n",
    "        scores.append({\n",
    "            'model': moddel_name,\n",
    "            'result':  np.mean(np.abs((pred-test.Gold_Price)/test.Gold_Price)*100)\n",
    "        })\n",
    "    return pd.DataFrame(scores,columns=['result'])"
   ]
  },
  {
   "cell_type": "code",
   "execution_count": 32,
   "id": "76924500",
   "metadata": {
    "scrolled": true
   },
   "outputs": [
    {
     "data": {
      "text/html": [
       "<div>\n",
       "<style scoped>\n",
       "    .dataframe tbody tr th:only-of-type {\n",
       "        vertical-align: middle;\n",
       "    }\n",
       "\n",
       "    .dataframe tbody tr th {\n",
       "        vertical-align: top;\n",
       "    }\n",
       "\n",
       "    .dataframe thead th {\n",
       "        text-align: right;\n",
       "    }\n",
       "</style>\n",
       "<table border=\"1\" class=\"dataframe\">\n",
       "  <thead>\n",
       "    <tr style=\"text-align: right;\">\n",
       "      <th></th>\n",
       "      <th>Model</th>\n",
       "      <th>original_error</th>\n",
       "      <th>sqrt_error</th>\n",
       "      <th>log_error</th>\n",
       "      <th>boxcox_error</th>\n",
       "      <th>reciprocal_error</th>\n",
       "    </tr>\n",
       "  </thead>\n",
       "  <tbody>\n",
       "    <tr>\n",
       "      <th>0</th>\n",
       "      <td>Simple Liner model</td>\n",
       "      <td>1.979933</td>\n",
       "      <td>0.996296</td>\n",
       "      <td>0.187866</td>\n",
       "      <td>5.021027</td>\n",
       "      <td>2.038199e+00</td>\n",
       "    </tr>\n",
       "    <tr>\n",
       "      <th>1</th>\n",
       "      <td>Exponential Linear model</td>\n",
       "      <td>99.975450</td>\n",
       "      <td>97.439051</td>\n",
       "      <td>77.820650</td>\n",
       "      <td>100.000000</td>\n",
       "      <td>4.656181e+07</td>\n",
       "    </tr>\n",
       "  </tbody>\n",
       "</table>\n",
       "</div>"
      ],
      "text/plain": [
       "                      Model  original_error  sqrt_error  log_error  \\\n",
       "0        Simple Liner model        1.979933    0.996296   0.187866   \n",
       "1  Exponential Linear model       99.975450   97.439051  77.820650   \n",
       "\n",
       "   boxcox_error  reciprocal_error  \n",
       "0      5.021027      2.038199e+00  \n",
       "1    100.000000      4.656181e+07  "
      ]
     },
     "execution_count": 32,
     "metadata": {},
     "output_type": "execute_result"
    }
   ],
   "source": [
    "moddel_name_ = [\"Simple Liner model\",\"Exponential Linear model\"]\n",
    "Result_1= pd.DataFrame(moddel_name_,columns=['Model'])\n",
    "Result_1['original_error'] = error3(train_data,test_data)\n",
    "Result_1['sqrt_error'] = error3(train_sqrt,test_sqrt)\n",
    "Result_1['log_error'] = error3(train_log,test_log)\n",
    "Result_1['boxcox_error'] = error3(train_boxcox,test_boxcox)\n",
    "Result_1['reciprocal_error'] = error3(train_recipro,test_recipro)\n",
    "Result_1"
   ]
  },
  {
   "cell_type": "code",
   "execution_count": null,
   "id": "19ad53d5",
   "metadata": {},
   "outputs": [],
   "source": []
  },
  {
   "cell_type": "code",
   "execution_count": null,
   "id": "9545551d",
   "metadata": {},
   "outputs": [],
   "source": []
  },
  {
   "cell_type": "code",
   "execution_count": null,
   "id": "71d7598f",
   "metadata": {},
   "outputs": [],
   "source": []
  },
  {
   "cell_type": "markdown",
   "id": "bd1f1be4",
   "metadata": {},
   "source": [
    "# ARIMA"
   ]
  },
  {
   "cell_type": "markdown",
   "id": "32ad449b",
   "metadata": {},
   "source": [
    "### Function for adfuller test"
   ]
  },
  {
   "cell_type": "code",
   "execution_count": 33,
   "id": "ebc58a48",
   "metadata": {},
   "outputs": [],
   "source": [
    "from statsmodels.tsa.stattools import adfuller\n",
    "def test_adfuller(data):\n",
    "     adf_test = adfuller(data, autolag = 'AIC')\n",
    "     print(\"1. ADF : \",adf_test[0])\n",
    "     print(\"2. P-Value : \", adf_test[1])\n",
    "     print(\"3.  Lags : \", adf_test[2])\n",
    "     print(\"4. Num Of Observations :\",      adf_test[3])\n",
    "     print(\"5. Critical Values :\")\n",
    "     for key, val in adf_test[4].items():\n",
    "         print(\"\\t\",key, \": \", val)"
   ]
  },
  {
   "cell_type": "code",
   "execution_count": 34,
   "id": "730b8efa",
   "metadata": {},
   "outputs": [
    {
     "name": "stdout",
     "output_type": "stream",
     "text": [
      "1. ADF :  -2.7169135993551143\n",
      "2. P-Value :  0.07115692842042405\n",
      "3.  Lags :  0\n",
      "4. Num Of Observations : 730\n",
      "5. Critical Values :\n",
      "\t 1% :  -3.4393396487377155\n",
      "\t 5% :  -2.865507363200066\n",
      "\t 10% :  -2.5688826684180897\n"
     ]
    }
   ],
   "source": [
    "test_adfuller(data['Gold_Price'])"
   ]
  },
  {
   "cell_type": "code",
   "execution_count": 35,
   "id": "f5e6dea3",
   "metadata": {
    "scrolled": true
   },
   "outputs": [
    {
     "name": "stdout",
     "output_type": "stream",
     "text": [
      "1. ADF :  -2.7481143344307015\n",
      "2. P-Value :  0.0660759770448181\n",
      "3.  Lags :  0\n",
      "4. Num Of Observations : 730\n",
      "5. Critical Values :\n",
      "\t 1% :  -3.4393396487377155\n",
      "\t 5% :  -2.865507363200066\n",
      "\t 10% :  -2.5688826684180897\n"
     ]
    }
   ],
   "source": [
    "test_adfuller(sqrt['Gold_Price'])"
   ]
  },
  {
   "cell_type": "code",
   "execution_count": 36,
   "id": "c3cc24d4",
   "metadata": {},
   "outputs": [
    {
     "name": "stdout",
     "output_type": "stream",
     "text": [
      "1. ADF :  -2.7827234857631193\n",
      "2. P-Value :  0.06078428704976459\n",
      "3.  Lags :  0\n",
      "4. Num Of Observations : 730\n",
      "5. Critical Values :\n",
      "\t 1% :  -3.4393396487377155\n",
      "\t 5% :  -2.865507363200066\n",
      "\t 10% :  -2.5688826684180897\n"
     ]
    }
   ],
   "source": [
    "test_adfuller(log['Gold_Price'])"
   ]
  },
  {
   "cell_type": "code",
   "execution_count": 37,
   "id": "790ab507",
   "metadata": {},
   "outputs": [
    {
     "name": "stdout",
     "output_type": "stream",
     "text": [
      "1. ADF :  -2.6421679549925083\n",
      "2. P-Value :  0.08459136479328577\n",
      "3.  Lags :  0\n",
      "4. Num Of Observations : 730\n",
      "5. Critical Values :\n",
      "\t 1% :  -3.4393396487377155\n",
      "\t 5% :  -2.865507363200066\n",
      "\t 10% :  -2.5688826684180897\n"
     ]
    }
   ],
   "source": [
    "test_adfuller(boxcox['Gold_Price'])"
   ]
  },
  {
   "cell_type": "code",
   "execution_count": 38,
   "id": "10593b58",
   "metadata": {
    "scrolled": false
   },
   "outputs": [
    {
     "name": "stdout",
     "output_type": "stream",
     "text": [
      "1. ADF :  -2.861650999446174\n",
      "2. P-Value :  0.049992659736322935\n",
      "3.  Lags :  0\n",
      "4. Num Of Observations : 730\n",
      "5. Critical Values :\n",
      "\t 1% :  -3.4393396487377155\n",
      "\t 5% :  -2.865507363200066\n",
      "\t 10% :  -2.5688826684180897\n"
     ]
    }
   ],
   "source": [
    "test_adfuller(recipro['Gold_Price'])"
   ]
  },
  {
   "cell_type": "markdown",
   "id": "5da75371",
   "metadata": {},
   "source": [
    "From adfuller test we came to know that reciprocal Transformation is givig least p_values so we will build arima model on Reciprocal Transformation"
   ]
  },
  {
   "cell_type": "code",
   "execution_count": 39,
   "id": "ab0036ab",
   "metadata": {},
   "outputs": [
    {
     "name": "stdout",
     "output_type": "stream",
     "text": [
      "Performing stepwise search to minimize aic\n",
      " ARIMA(2,1,2)(0,0,0)[0] intercept   : AIC=-15433.778, Time=0.68 sec\n",
      " ARIMA(0,1,0)(0,0,0)[0] intercept   : AIC=-16048.376, Time=0.47 sec\n",
      " ARIMA(1,1,0)(0,0,0)[0] intercept   : AIC=-16046.372, Time=0.64 sec\n",
      " ARIMA(0,1,1)(0,0,0)[0] intercept   : AIC=-15933.166, Time=1.05 sec\n",
      " ARIMA(0,1,0)(0,0,0)[0]             : AIC=-17453.249, Time=0.20 sec\n",
      " ARIMA(1,1,1)(0,0,0)[0] intercept   : AIC=-16408.873, Time=0.84 sec\n",
      "\n",
      "Best model:  ARIMA(0,1,0)(0,0,0)[0]          \n",
      "Total fit time: 3.866 seconds\n"
     ]
    }
   ],
   "source": [
    "# auto arima to get best p,d,q\n",
    "\n",
    "from pmdarima import auto_arima\n",
    "show_fit = auto_arima(recipro['Gold_Price'], trace=True,suppress_warnings=True)"
   ]
  },
  {
   "cell_type": "code",
   "execution_count": 40,
   "id": "a0ddd09e",
   "metadata": {},
   "outputs": [],
   "source": [
    "from statsmodels.tsa.arima_model import ARIMA\n",
    "model=ARIMA(recipro['Gold_Price'],order=(0,1,0))\n",
    "model=model.fit()\n",
    "warnings.filterwarnings(\"ignore\")"
   ]
  },
  {
   "cell_type": "code",
   "execution_count": 41,
   "id": "97b6d528",
   "metadata": {},
   "outputs": [
    {
     "data": {
      "text/plain": [
       "99.99999994632606"
      ]
     },
     "execution_count": 41,
     "metadata": {},
     "output_type": "execute_result"
    }
   ],
   "source": [
    "start=len(recipro.Gold_Price)\n",
    "end=len(recipro.Gold_Price)-1\n",
    "pred2_=model.predict(start=1,end=800,typ='levels').rename('ARIMA Predictions')\n",
    "np.mean(np.abs((pred2_-data.Gold_Price)/data.Gold_Price)*100)"
   ]
  },
  {
   "cell_type": "code",
   "execution_count": null,
   "id": "25aaaa5a",
   "metadata": {},
   "outputs": [],
   "source": []
  },
  {
   "cell_type": "code",
   "execution_count": 42,
   "id": "63873f93",
   "metadata": {},
   "outputs": [
    {
     "data": {
      "image/png": "[encoded data removed]",
      "text/plain": [
       "<Figure size 432x288 with 1 Axes>"
      ]
     },
     "metadata": {
      "needs_background": "light"
     },
     "output_type": "display_data"
    }
   ],
   "source": [
    "plt.plot(data['Gold_Price'], label='data')\n",
    "plt.plot(pred2_, label='ARIMA')\n",
    "plt.legend(loc='best')\n",
    "plt.grid()\n",
    "plt.show()"
   ]
  },
  {
   "cell_type": "code",
   "execution_count": 43,
   "id": "fec83a4d",
   "metadata": {},
   "outputs": [
    {
     "data": {
      "text/html": [
       "<div>\n",
       "<style scoped>\n",
       "    .dataframe tbody tr th:only-of-type {\n",
       "        vertical-align: middle;\n",
       "    }\n",
       "\n",
       "    .dataframe tbody tr th {\n",
       "        vertical-align: top;\n",
       "    }\n",
       "\n",
       "    .dataframe thead th {\n",
       "        text-align: right;\n",
       "    }\n",
       "</style>\n",
       "<table border=\"1\" class=\"dataframe\">\n",
       "  <thead>\n",
       "    <tr style=\"text-align: right;\">\n",
       "      <th></th>\n",
       "      <th>Model</th>\n",
       "      <th>original_error</th>\n",
       "      <th>sqrt_error</th>\n",
       "      <th>log_error</th>\n",
       "      <th>boxcox_error</th>\n",
       "      <th>reciprocal_error</th>\n",
       "    </tr>\n",
       "  </thead>\n",
       "  <tbody>\n",
       "    <tr>\n",
       "      <th>0</th>\n",
       "      <td>Naives Aproch</td>\n",
       "      <td>2.139631</td>\n",
       "      <td>1.078216</td>\n",
       "      <td>0.203148</td>\n",
       "      <td>5.385734</td>\n",
       "      <td>2.209443e+00</td>\n",
       "    </tr>\n",
       "    <tr>\n",
       "      <th>1</th>\n",
       "      <td>Simple Average</td>\n",
       "      <td>1.950153</td>\n",
       "      <td>0.989501</td>\n",
       "      <td>0.187919</td>\n",
       "      <td>4.843023</td>\n",
       "      <td>2.080878e+00</td>\n",
       "    </tr>\n",
       "    <tr>\n",
       "      <th>2</th>\n",
       "      <td>Moving Average</td>\n",
       "      <td>2.139631</td>\n",
       "      <td>1.078216</td>\n",
       "      <td>0.203148</td>\n",
       "      <td>5.385734</td>\n",
       "      <td>2.209443e+00</td>\n",
       "    </tr>\n",
       "    <tr>\n",
       "      <th>3</th>\n",
       "      <td>Simple Exponential</td>\n",
       "      <td>2.142138</td>\n",
       "      <td>1.079500</td>\n",
       "      <td>0.203394</td>\n",
       "      <td>5.391715</td>\n",
       "      <td>2.212202e+00</td>\n",
       "    </tr>\n",
       "    <tr>\n",
       "      <th>4</th>\n",
       "      <td>Holt</td>\n",
       "      <td>1.449310</td>\n",
       "      <td>0.724023</td>\n",
       "      <td>0.135253</td>\n",
       "      <td>3.755801</td>\n",
       "      <td>1.445219e+00</td>\n",
       "    </tr>\n",
       "    <tr>\n",
       "      <th>5</th>\n",
       "      <td>ExponentialSmoothing</td>\n",
       "      <td>8.531602</td>\n",
       "      <td>0.870422</td>\n",
       "      <td>0.163546</td>\n",
       "      <td>18.710011</td>\n",
       "      <td>9.873709e+00</td>\n",
       "    </tr>\n",
       "    <tr>\n",
       "      <th>6</th>\n",
       "      <td>Simple Liner model</td>\n",
       "      <td>1.979933</td>\n",
       "      <td>0.996296</td>\n",
       "      <td>0.187866</td>\n",
       "      <td>5.021027</td>\n",
       "      <td>2.038199e+00</td>\n",
       "    </tr>\n",
       "    <tr>\n",
       "      <th>7</th>\n",
       "      <td>Exponential Linear model</td>\n",
       "      <td>99.975450</td>\n",
       "      <td>97.439051</td>\n",
       "      <td>77.820650</td>\n",
       "      <td>100.000000</td>\n",
       "      <td>4.656181e+07</td>\n",
       "    </tr>\n",
       "  </tbody>\n",
       "</table>\n",
       "</div>"
      ],
      "text/plain": [
       "                      Model  original_error  sqrt_error  log_error  \\\n",
       "0            Naives Aproch         2.139631    1.078216   0.203148   \n",
       "1           Simple Average         1.950153    0.989501   0.187919   \n",
       "2            Moving Average        2.139631    1.078216   0.203148   \n",
       "3        Simple Exponential        2.142138    1.079500   0.203394   \n",
       "4                      Holt        1.449310    0.724023   0.135253   \n",
       "5      ExponentialSmoothing        8.531602    0.870422   0.163546   \n",
       "6        Simple Liner model        1.979933    0.996296   0.187866   \n",
       "7  Exponential Linear model       99.975450   97.439051  77.820650   \n",
       "\n",
       "   boxcox_error  reciprocal_error  \n",
       "0      5.385734      2.209443e+00  \n",
       "1      4.843023      2.080878e+00  \n",
       "2      5.385734      2.209443e+00  \n",
       "3      5.391715      2.212202e+00  \n",
       "4      3.755801      1.445219e+00  \n",
       "5     18.710011      9.873709e+00  \n",
       "6      5.021027      2.038199e+00  \n",
       "7    100.000000      4.656181e+07  "
      ]
     },
     "execution_count": 43,
     "metadata": {},
     "output_type": "execute_result"
    }
   ],
   "source": [
    "FinalResult = pd.concat([Result,Result_,Result_1],axis=0)\n",
    "FinalResult.reset_index(drop=True,inplace=True)\n",
    "FinalResult"
   ]
  },
  {
   "cell_type": "markdown",
   "id": "3048df45",
   "metadata": {},
   "source": [
    "                             Holts metod has given least error with LogTransformation .\n",
    "As Holts metod has given least error as compare to other model so we decided to go with Holts  Method.\n",
    "But After building the model on Holts method we find that data is overfitted therefore we finallies Exponential Smooting as our final model"
   ]
  },
  {
   "cell_type": "code",
   "execution_count": null,
   "id": "73b08c50",
   "metadata": {},
   "outputs": [],
   "source": []
  },
  {
   "cell_type": "code",
   "execution_count": 44,
   "id": "16e9c285",
   "metadata": {},
   "outputs": [],
   "source": [
    "## final model"
   ]
  },
  {
   "cell_type": "code",
   "execution_count": 45,
   "id": "660061e3",
   "metadata": {
    "scrolled": false
   },
   "outputs": [
    {
     "data": {
      "text/plain": [
       "0.0017562589685081607"
      ]
     },
     "execution_count": 45,
     "metadata": {},
     "output_type": "execute_result"
    }
   ],
   "source": [
    "# ExponentialSmoothing method \n",
    "ES =ExponentialSmoothing((log['Gold_Price']),seasonal=\"add\",trend=\"add\",seasonal_periods=730).fit()\n",
    "pred_ES = ES.predict(start = log.index[0],end = log.index[-1])\n",
    "np.mean(np.abs((pred_ES-log.Gold_Price)/log.Gold_Price)*100)"
   ]
  },
  {
   "cell_type": "code",
   "execution_count": 46,
   "id": "6018d5ad",
   "metadata": {},
   "outputs": [
    {
     "data": {
      "text/html": [
       "<div>\n",
       "<style scoped>\n",
       "    .dataframe tbody tr th:only-of-type {\n",
       "        vertical-align: middle;\n",
       "    }\n",
       "\n",
       "    .dataframe tbody tr th {\n",
       "        vertical-align: top;\n",
       "    }\n",
       "\n",
       "    .dataframe thead th {\n",
       "        text-align: right;\n",
       "    }\n",
       "</style>\n",
       "<table border=\"1\" class=\"dataframe\">\n",
       "  <thead>\n",
       "    <tr style=\"text-align: right;\">\n",
       "      <th></th>\n",
       "      <th>Gold_Price</th>\n",
       "      <th>time</th>\n",
       "      <th>time_sqr</th>\n",
       "      <th>log_GoldPrice</th>\n",
       "      <th>Forecast</th>\n",
       "    </tr>\n",
       "  </thead>\n",
       "  <tbody>\n",
       "    <tr>\n",
       "      <th>2020-03-04</th>\n",
       "      <td>38782.0</td>\n",
       "      <td>1</td>\n",
       "      <td>1</td>\n",
       "      <td>10.565712</td>\n",
       "      <td>38776.875146</td>\n",
       "    </tr>\n",
       "    <tr>\n",
       "      <th>2020-03-05</th>\n",
       "      <td>39246.0</td>\n",
       "      <td>2</td>\n",
       "      <td>4</td>\n",
       "      <td>10.577605</td>\n",
       "      <td>39234.661490</td>\n",
       "    </tr>\n",
       "    <tr>\n",
       "      <th>2020-03-06</th>\n",
       "      <td>40061.0</td>\n",
       "      <td>3</td>\n",
       "      <td>9</td>\n",
       "      <td>10.598159</td>\n",
       "      <td>40058.485421</td>\n",
       "    </tr>\n",
       "    <tr>\n",
       "      <th>2020-03-07</th>\n",
       "      <td>40061.0</td>\n",
       "      <td>4</td>\n",
       "      <td>16</td>\n",
       "      <td>10.598159</td>\n",
       "      <td>40053.841443</td>\n",
       "    </tr>\n",
       "    <tr>\n",
       "      <th>2020-03-08</th>\n",
       "      <td>40061.0</td>\n",
       "      <td>5</td>\n",
       "      <td>25</td>\n",
       "      <td>10.598159</td>\n",
       "      <td>40055.341762</td>\n",
       "    </tr>\n",
       "  </tbody>\n",
       "</table>\n",
       "</div>"
      ],
      "text/plain": [
       "            Gold_Price  time  time_sqr  log_GoldPrice      Forecast\n",
       "2020-03-04     38782.0     1         1      10.565712  38776.875146\n",
       "2020-03-05     39246.0     2         4      10.577605  39234.661490\n",
       "2020-03-06     40061.0     3         9      10.598159  40058.485421\n",
       "2020-03-07     40061.0     4        16      10.598159  40053.841443\n",
       "2020-03-08     40061.0     5        25      10.598159  40055.341762"
      ]
     },
     "execution_count": 46,
     "metadata": {},
     "output_type": "execute_result"
    }
   ],
   "source": [
    "data['Forecast']=np.exp(pred_ES)\n",
    "data.head()"
   ]
  },
  {
   "cell_type": "code",
   "execution_count": 47,
   "id": "5b0b3ab5",
   "metadata": {
    "scrolled": true
   },
   "outputs": [
    {
     "data": {
      "image/png": "[encoded data removed]",
      "text/plain": [
       "<Figure size 432x288 with 1 Axes>"
      ]
     },
     "metadata": {
      "needs_background": "light"
     },
     "output_type": "display_data"
    }
   ],
   "source": [
    "\n",
    "\n",
    "plt.plot(data['Gold_Price'], label='data')\n",
    "plt.plot(data['Forecast'], label='ES')\n",
    "plt.legend(loc='best')\n",
    "plt.grid()\n",
    "plt.show()"
   ]
  },
  {
   "cell_type": "code",
   "execution_count": 48,
   "id": "5726f11f",
   "metadata": {
    "scrolled": true
   },
   "outputs": [
    {
     "data": {
      "text/plain": [
       "2022-03-05    48366.224234\n",
       "2022-03-06    49382.978671\n",
       "2022-03-07    49389.180494\n",
       "2022-03-08    49397.283634\n",
       "2022-03-09    49293.746793\n",
       "2022-03-10    48804.069754\n",
       "2022-03-11    48461.232948\n",
       "2022-03-12    46388.366586\n",
       "2022-03-13    45970.655098\n",
       "2022-03-14    45970.000824\n",
       "2022-03-15    45970.208336\n",
       "2022-03-16    43975.321846\n",
       "2022-03-17    45401.479873\n",
       "2022-03-18    44286.908451\n",
       "2022-03-19    44011.168420\n",
       "2022-03-20    44739.369042\n",
       "2022-03-21    44743.045959\n",
       "2022-03-22    44746.865938\n",
       "2022-03-23    46545.468514\n",
       "2022-03-24    48536.230208\n",
       "2022-03-25    48525.776571\n",
       "2022-03-26    48919.302768\n",
       "2022-03-27    48190.927134\n",
       "2022-03-28    48183.634519\n",
       "2022-03-29    48178.362788\n",
       "2022-03-30    48704.209955\n",
       "2022-03-31    48439.454911\n",
       "2022-04-01    47460.615480\n",
       "2022-04-02    48665.790234\n",
       "2022-04-03    48879.038883\n",
       "Freq: D, dtype: float64"
      ]
     },
     "execution_count": 48,
     "metadata": {},
     "output_type": "execute_result"
    }
   ],
   "source": [
    "np.exp(ES.forecast(30))"
   ]
  },
  {
   "cell_type": "code",
   "execution_count": null,
   "id": "5a85ac3e",
   "metadata": {},
   "outputs": [],
   "source": []
  },
  {
   "cell_type": "code",
   "execution_count": null,
   "id": "2007bd0b",
   "metadata": {},
   "outputs": [],
   "source": []
  },
  {
   "cell_type": "code",
   "execution_count": 49,
   "id": "9acd125f",
   "metadata": {},
   "outputs": [],
   "source": [
    "#Rnn model ."
   ]
  },
  {
   "cell_type": "code",
   "execution_count": 50,
   "id": "eda43957",
   "metadata": {},
   "outputs": [
    {
     "data": {
      "text/html": [
       "<div>\n",
       "<style scoped>\n",
       "    .dataframe tbody tr th:only-of-type {\n",
       "        vertical-align: middle;\n",
       "    }\n",
       "\n",
       "    .dataframe tbody tr th {\n",
       "        vertical-align: top;\n",
       "    }\n",
       "\n",
       "    .dataframe thead th {\n",
       "        text-align: right;\n",
       "    }\n",
       "</style>\n",
       "<table border=\"1\" class=\"dataframe\">\n",
       "  <thead>\n",
       "    <tr style=\"text-align: right;\">\n",
       "      <th></th>\n",
       "      <th>Gold_Price</th>\n",
       "    </tr>\n",
       "  </thead>\n",
       "  <tbody>\n",
       "    <tr>\n",
       "      <th>2020-03-04</th>\n",
       "      <td>10.565712</td>\n",
       "    </tr>\n",
       "    <tr>\n",
       "      <th>2020-03-05</th>\n",
       "      <td>10.577605</td>\n",
       "    </tr>\n",
       "    <tr>\n",
       "      <th>2020-03-06</th>\n",
       "      <td>10.598159</td>\n",
       "    </tr>\n",
       "    <tr>\n",
       "      <th>2020-03-07</th>\n",
       "      <td>10.598159</td>\n",
       "    </tr>\n",
       "    <tr>\n",
       "      <th>2020-03-08</th>\n",
       "      <td>10.598159</td>\n",
       "    </tr>\n",
       "  </tbody>\n",
       "</table>\n",
       "</div>"
      ],
      "text/plain": [
       "            Gold_Price\n",
       "2020-03-04   10.565712\n",
       "2020-03-05   10.577605\n",
       "2020-03-06   10.598159\n",
       "2020-03-07   10.598159\n",
       "2020-03-08   10.598159"
      ]
     },
     "execution_count": 50,
     "metadata": {},
     "output_type": "execute_result"
    }
   ],
   "source": [
    "train_11=log1.head(550)\n",
    "test_11=log1.iloc[550:]\n",
    "train_11.head()"
   ]
  },
  {
   "cell_type": "code",
   "execution_count": 51,
   "id": "efeec5e5",
   "metadata": {},
   "outputs": [],
   "source": [
    "from tensorflow.keras.models import Sequential\n",
    "from tensorflow.keras.layers import Dense\n",
    "from tensorflow.keras.layers import LSTM\n",
    "from sklearn.preprocessing import MinMaxScaler\n",
    "scale = MinMaxScaler()"
   ]
  },
  {
   "cell_type": "code",
   "execution_count": 52,
   "id": "5465f410",
   "metadata": {},
   "outputs": [],
   "source": [
    "scale.fit(train_11)\n",
    "scaled_train = scale.transform(train_11)\n",
    "scaled_test = scale.transform(test_11)\n"
   ]
  },
  {
   "cell_type": "code",
   "execution_count": 53,
   "id": "83993a98",
   "metadata": {},
   "outputs": [],
   "source": [
    "from keras.preprocessing.sequence import TimeseriesGenerator"
   ]
  },
  {
   "cell_type": "code",
   "execution_count": 54,
   "id": "fe3f7c79",
   "metadata": {},
   "outputs": [],
   "source": [
    "n_input = 4\n",
    "n_features = 1\n",
    "generator = TimeseriesGenerator(scaled_train, scaled_train, length=n_input, batch_size=1)"
   ]
  },
  {
   "cell_type": "code",
   "execution_count": 55,
   "id": "965dd9fa",
   "metadata": {
    "scrolled": true
   },
   "outputs": [
    {
     "name": "stdout",
     "output_type": "stream",
     "text": [
      "Epoch 1/16\n",
      "546/546 [==============================] - 3s 3ms/step - loss: 0.0132\n",
      "Epoch 2/16\n",
      "546/546 [==============================] - 2s 3ms/step - loss: 0.0022\n",
      "Epoch 3/16\n",
      "546/546 [==============================] - 2s 3ms/step - loss: 0.0022\n",
      "Epoch 4/16\n",
      "546/546 [==============================] - 2s 3ms/step - loss: 0.0020\n",
      "Epoch 5/16\n",
      "546/546 [==============================] - 2s 3ms/step - loss: 0.0017\n",
      "Epoch 6/16\n",
      "546/546 [==============================] - 2s 3ms/step - loss: 0.0016\n",
      "Epoch 7/16\n",
      "546/546 [==============================] - 2s 4ms/step - loss: 0.0016\n",
      "Epoch 8/16\n",
      "546/546 [==============================] - 2s 3ms/step - loss: 0.0015\n",
      "Epoch 9/16\n",
      "546/546 [==============================] - 2s 3ms/step - loss: 0.0015\n",
      "Epoch 10/16\n",
      "546/546 [==============================] - 2s 4ms/step - loss: 0.0013\n",
      "Epoch 11/16\n",
      "546/546 [==============================] - 2s 3ms/step - loss: 0.0014\n",
      "Epoch 12/16\n",
      "546/546 [==============================] - 2s 3ms/step - loss: 0.0012\n",
      "Epoch 13/16\n",
      "546/546 [==============================] - 2s 3ms/step - loss: 0.0012\n",
      "Epoch 14/16\n",
      "546/546 [==============================] - 2s 4ms/step - loss: 0.0013\n",
      "Epoch 15/16\n",
      "546/546 [==============================] - 2s 3ms/step - loss: 0.0011\n",
      "Epoch 16/16\n",
      "546/546 [==============================] - 2s 4ms/step - loss: 0.0011\n"
     ]
    },
    {
     "data": {
      "text/plain": [
       "<keras.callbacks.History at 0x17dc08fc730>"
      ]
     },
     "execution_count": 55,
     "metadata": {},
     "output_type": "execute_result"
    }
   ],
   "source": [
    "model = Sequential()\n",
    "model.add(LSTM(100, activation='relu', input_shape=(n_input, n_features)))\n",
    "model.add(Dense(1))\n",
    "model.compile(optimizer='adam', loss='mse')\n",
    "model.fit(generator,epochs=16)"
   ]
  },
  {
   "cell_type": "code",
   "execution_count": 56,
   "id": "f2f730db",
   "metadata": {
    "scrolled": true
   },
   "outputs": [
    {
     "data": {
      "text/plain": [
       "[<matplotlib.lines.Line2D at 0x17dc2dfffa0>]"
      ]
     },
     "execution_count": 56,
     "metadata": {},
     "output_type": "execute_result"
    },
    {
     "data": {
      "image/png": "[encoded data removed]",
      "text/plain": [
       "<Figure size 432x288 with 1 Axes>"
      ]
     },
     "metadata": {
      "needs_background": "light"
     },
     "output_type": "display_data"
    }
   ],
   "source": [
    "loss_per_epoch = model.history.history['loss']\n",
    "plt.plot(range(len(loss_per_epoch)),loss_per_epoch)"
   ]
  },
  {
   "cell_type": "code",
   "execution_count": 57,
   "id": "e3b5e8f1",
   "metadata": {},
   "outputs": [
    {
     "data": {
      "text/plain": [
       "array([0.55234961])"
      ]
     },
     "execution_count": 57,
     "metadata": {},
     "output_type": "execute_result"
    }
   ],
   "source": [
    "last_train_batch = scaled_train[-4:]\n",
    "last_train_batch = last_train_batch.reshape((1, n_input, n_features))\n",
    "model.predict(last_train_batch)\n",
    "\n",
    "scaled_test[0]"
   ]
  },
  {
   "cell_type": "code",
   "execution_count": 58,
   "id": "8e5cb034",
   "metadata": {},
   "outputs": [],
   "source": [
    "test_predictions = []\n",
    "\n",
    "first_eval_batch = scaled_train[-n_input:]\n",
    "current_batch = first_eval_batch.reshape((1, n_input, n_features))\n",
    "\n",
    "for i in range(len(test_11)):\n",
    "    \n",
    "    # get the prediction value for the first batch\n",
    "    current_pred = model.predict(current_batch)[0]\n",
    "    \n",
    "    # append the prediction into the array\n",
    "    test_predictions.append(current_pred) \n",
    "    \n",
    "    # use the prediction to update the batch and remove the first value\n",
    "    current_batch = np.append(current_batch[:,1:,:],[[current_pred]],axis=1)"
   ]
  },
  {
   "cell_type": "code",
   "execution_count": 59,
   "id": "861eac57",
   "metadata": {},
   "outputs": [],
   "source": [
    "true_predictions = scale.inverse_transform(test_predictions)"
   ]
  },
  {
   "cell_type": "code",
   "execution_count": 60,
   "id": "2c137cde",
   "metadata": {},
   "outputs": [
    {
     "data": {
      "text/html": [
       "<div>\n",
       "<style scoped>\n",
       "    .dataframe tbody tr th:only-of-type {\n",
       "        vertical-align: middle;\n",
       "    }\n",
       "\n",
       "    .dataframe tbody tr th {\n",
       "        vertical-align: top;\n",
       "    }\n",
       "\n",
       "    .dataframe thead th {\n",
       "        text-align: right;\n",
       "    }\n",
       "</style>\n",
       "<table border=\"1\" class=\"dataframe\">\n",
       "  <thead>\n",
       "    <tr style=\"text-align: right;\">\n",
       "      <th></th>\n",
       "      <th>Gold_Price</th>\n",
       "    </tr>\n",
       "  </thead>\n",
       "  <tbody>\n",
       "    <tr>\n",
       "      <th>2020-03-04</th>\n",
       "      <td>38782.0</td>\n",
       "    </tr>\n",
       "    <tr>\n",
       "      <th>2020-03-05</th>\n",
       "      <td>39246.0</td>\n",
       "    </tr>\n",
       "    <tr>\n",
       "      <th>2020-03-06</th>\n",
       "      <td>40061.0</td>\n",
       "    </tr>\n",
       "    <tr>\n",
       "      <th>2020-03-07</th>\n",
       "      <td>40061.0</td>\n",
       "    </tr>\n",
       "    <tr>\n",
       "      <th>2020-03-08</th>\n",
       "      <td>40061.0</td>\n",
       "    </tr>\n",
       "  </tbody>\n",
       "</table>\n",
       "</div>"
      ],
      "text/plain": [
       "            Gold_Price\n",
       "2020-03-04     38782.0\n",
       "2020-03-05     39246.0\n",
       "2020-03-06     40061.0\n",
       "2020-03-07     40061.0\n",
       "2020-03-08     40061.0"
      ]
     },
     "execution_count": 60,
     "metadata": {},
     "output_type": "execute_result"
    }
   ],
   "source": [
    "train_12=data1.head(550)\n",
    "test_12=data1.iloc[550:]\n",
    "train_12.head()"
   ]
  },
  {
   "cell_type": "code",
   "execution_count": 61,
   "id": "6bca3f9d",
   "metadata": {},
   "outputs": [
    {
     "data": {
      "text/html": [
       "<div>\n",
       "<style scoped>\n",
       "    .dataframe tbody tr th:only-of-type {\n",
       "        vertical-align: middle;\n",
       "    }\n",
       "\n",
       "    .dataframe tbody tr th {\n",
       "        vertical-align: top;\n",
       "    }\n",
       "\n",
       "    .dataframe thead th {\n",
       "        text-align: right;\n",
       "    }\n",
       "</style>\n",
       "<table border=\"1\" class=\"dataframe\">\n",
       "  <thead>\n",
       "    <tr style=\"text-align: right;\">\n",
       "      <th></th>\n",
       "      <th>Gold_Price</th>\n",
       "      <th>Predictions</th>\n",
       "    </tr>\n",
       "  </thead>\n",
       "  <tbody>\n",
       "    <tr>\n",
       "      <th>2021-09-05</th>\n",
       "      <td>42955.0</td>\n",
       "      <td>42719.236648</td>\n",
       "    </tr>\n",
       "    <tr>\n",
       "      <th>2021-09-06</th>\n",
       "      <td>42957.0</td>\n",
       "      <td>42543.144203</td>\n",
       "    </tr>\n",
       "    <tr>\n",
       "      <th>2021-09-07</th>\n",
       "      <td>42687.0</td>\n",
       "      <td>42360.249443</td>\n",
       "    </tr>\n",
       "    <tr>\n",
       "      <th>2021-09-08</th>\n",
       "      <td>42407.0</td>\n",
       "      <td>42189.428084</td>\n",
       "    </tr>\n",
       "    <tr>\n",
       "      <th>2021-09-09</th>\n",
       "      <td>42398.0</td>\n",
       "      <td>42027.867975</td>\n",
       "    </tr>\n",
       "  </tbody>\n",
       "</table>\n",
       "</div>"
      ],
      "text/plain": [
       "            Gold_Price   Predictions\n",
       "2021-09-05     42955.0  42719.236648\n",
       "2021-09-06     42957.0  42543.144203\n",
       "2021-09-07     42687.0  42360.249443\n",
       "2021-09-08     42407.0  42189.428084\n",
       "2021-09-09     42398.0  42027.867975"
      ]
     },
     "execution_count": 61,
     "metadata": {},
     "output_type": "execute_result"
    }
   ],
   "source": [
    "test_12['Predictions'] = true_predictions\n",
    "test_12['Predictions']=np.exp(test_12['Predictions'])\n",
    "\n",
    "test_12.head()"
   ]
  },
  {
   "cell_type": "code",
   "execution_count": 62,
   "id": "edab96e8",
   "metadata": {},
   "outputs": [
    {
     "name": "stdout",
     "output_type": "stream",
     "text": [
      "9.519325551680584\n"
     ]
    }
   ],
   "source": [
    "result = np.abs((test_12['Predictions']-test_12.Gold_Price)/test_12.Gold_Price)*100\n",
    "print( np.mean(result))"
   ]
  },
  {
   "cell_type": "code",
   "execution_count": null,
   "id": "0e76cf01",
   "metadata": {},
   "outputs": [],
   "source": []
  },
  {
   "cell_type": "code",
   "execution_count": 63,
   "id": "3c86571e",
   "metadata": {},
   "outputs": [],
   "source": [
    "### As Rmse score wirh rnn was high as compare to exponential smooting method ... so our final model will be EXponential model."
   ]
  },
  {
   "cell_type": "code",
   "execution_count": null,
   "id": "44186662",
   "metadata": {},
   "outputs": [],
   "source": []
  },
  {
   "cell_type": "code",
   "execution_count": 64,
   "id": "01275cb7",
   "metadata": {},
   "outputs": [],
   "source": [
    "import pickle\n",
    "filename = 'C:/Users/piyus/GoldPrice_forecast.sav'\n",
    "pickle.dump(ES, open(filename, 'wb'))"
   ]
  },
  {
   "cell_type": "code",
   "execution_count": 65,
   "id": "edfa3b73",
   "metadata": {},
   "outputs": [],
   "source": [
    "with open('C:/Users/piyus/GoldPrice_forecast.pickle','wb') as f:\n",
    "    pickle.dump(ES,f)"
   ]
  },
  {
   "cell_type": "code",
   "execution_count": 68,
   "id": "ed743023",
   "metadata": {},
   "outputs": [],
   "source": [
    "final_df = data1\n",
    "final_df.to_pickle(\"C:/Users/piyus/GoldPriceforecast.pickle\")\n",
    "final_df.to_csv(\"C:/Users/piyus/gold_Cleaned_data.csv\")"
   ]
  }
 ],
 "metadata": {
  "kernelspec": {
   "display_name": "Python 3 (ipykernel)",
   "language": "python",
   "name": "python3"
  },
  "language_info": {
   "codemirror_mode": {
    "name": "ipython",
    "version": 3
   },
   "file_extension": ".py",
   "mimetype": "text/x-python",
   "name": "python",
   "nbconvert_exporter": "python",
   "pygments_lexer": "ipython3",
   "version": "3.9.7"
  }
 },
 "nbformat": 4,
 "nbformat_minor": 5
}
